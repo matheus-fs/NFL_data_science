

import pandas as pd
import nflfastpy as nfl

df = nfl.load_roster_data(year=2021)